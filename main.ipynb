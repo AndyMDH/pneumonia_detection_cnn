{
  "nbformat": 4,
  "nbformat_minor": 0,
  "metadata": {
    "colab": {
      "provenance": [],
      "authorship_tag": "ABX9TyMJoylIqdlPlEPAOkIS6M50",
      "include_colab_link": true
    },
    "kernelspec": {
      "name": "python3",
      "display_name": "Python 3"
    },
    "language_info": {
      "name": "python"
    }
  },
  "cells": [
    {
      "cell_type": "markdown",
      "metadata": {
        "id": "view-in-github",
        "colab_type": "text"
      },
      "source": [
        "<a href=\"https://colab.research.google.com/github/AndyMDH/pneumonia_detection_cnn/blob/main/main.ipynb\" target=\"_parent\"><img src=\"https://colab.research.google.com/assets/colab-badge.svg\" alt=\"Open In Colab\"/></a>"
      ]
    },
    {
      "cell_type": "markdown",
      "source": [
        "# CSCK506  End of Module: Pneumonia Detection through Convolutional Neural Network (CNN)\n",
        "\n"
      ],
      "metadata": {
        "id": "sKYV16KhiNal"
      }
    },
    {
      "cell_type": "markdown",
      "source": [
        "## Table of Contents\n",
        "1. [Introduction](#section-1-introduction)\n",
        "2. [Data Exploration & Analysis](#section-2-data-exploration--analysis)\n",
        "3. [Data Preparation](#section-3-data-preparation)\n",
        "4. [Create Vocabulary](#section-4-create-vocabulary)\n",
        "5. [Feature Extraction](#section-5-feature-extraction)\n",
        "6. [Seq2Seq Model Development](#section-6-seq2seq-model-development)\n",
        "7. [Model Evaluation](#section-7-model-evaluation)\n",
        "8. [Chatbot Implementation and Manual Testing](#section-8-chatbot-implementation-and-manual-testing)"
      ],
      "metadata": {
        "id": "dpfCeVsEiwvH"
      }
    },
    {
      "cell_type": "markdown",
      "source": [
        "---\n",
        "## Introduction\n",
        "\n",
        "Pneumonia poses a severe threat to human health, being a potentially life-threatening infectious illness that typically affects one or both lungs. It is frequently triggered by bacteria, notably Streptococcus pneumoniae. According to the World Health Organization (WHO), pneumonia is responsible for one in three deaths in India (Varshni et al., 2019). Medical practitioners often rely on X-ray scans to diagnose pneumonia, distinguishing between bacterial and viral types.\n",
        "\n",
        "This Jupyter notebook delves into the realm of automated pneumonia detection using Convolutional Neural Networks (CNNs). Specifically, it addresses the task of training a CNN model to differentiate between healthy lung scans and those afflicted with pneumonia. The dataset utilised for this endeavor is sourced from the Kaggle competition repository, offering a collection of chest X-ray images categorised as pneumonia-positive and normal.\n",
        "\n",
        "\n",
        "**This task involves, but is not limited to:**\n",
        "\n",
        "a. CNN Model Development:\n",
        "\n",
        "- Write code to train a CNN model using the provided dataset.\n",
        "- Objective: Achieve optimal performance in distinguishing between healthy and pneumonia-infected lung images.\n",
        "\n",
        "    - **Key considerations:**\n",
        "      - Define CNN architecture, including convolution-pooling blocks.\n",
        "      - Fine-tune parameters like strides, padding, and activation functions for accuracy.\n",
        "      - Implement strategies to prevent overfitting and ensure model generalization.\n",
        "\n",
        "b. Training and Evaluation:\n",
        "\n",
        "- Train the CNN model using the provided training dataset.\n",
        "Fine-tune hyperparameters using validation data to enhance performance.\n",
        "- Evaluate the model's accuracy using a separate test dataset to validate pneumonia detection in chest X-ray images.\n",
        "\n",
        "This Jupyter Notebook was collaboratively prepared by:\n",
        "\n",
        "- Minh-Dat Andy Ho Huu\n",
        "- Santiago Fernandez Blanco\n",
        "- Ismael Saumtally\n",
        "- Chi Chuen Wan\n",
        "- Chui Yi Wong"
      ],
      "metadata": {
        "id": "Fp0cMtR7i1cn"
      }
    },
    {
      "cell_type": "markdown",
      "source": [
        "### Import Dependencies"
      ],
      "metadata": {
        "id": "_znUfAOJvTQN"
      }
    },
    {
      "cell_type": "code",
      "source": [
        "# Standard library imports\n",
        "import itertools\n",
        "import logging\n",
        "import os\n",
        "import re\n",
        "import unicodedata\n",
        "import urllib.request\n",
        "from collections import defaultdict\n",
        "from typing import List, Optional, Set, Tuple\n",
        "from zipfile import ZipFile\n",
        "\n",
        "import matplotlib.pyplot as plt\n",
        "import tensorflow as tf\n",
        "from tensorflow import keras\n",
        "from tensorflow.keras.models import Sequential\n",
        "from tensorflow.keras.layers import Dense, Activation, Conv2D, MaxPooling2D, Flatten, Dropout, BatchNormalization\n",
        "from tensorflow.keras.optimizers import Adam\n",
        "from tensorflow.keras.callbacks import EarlyStopping\n",
        "from sklearn.metrics import precision_recall_curve, roc_curve, accuracy_score, confusion_matrix, precision_score, recall_score\n",
        "from sklearn.decomposition import PCA\n",
        "from sklearn.model_selection import train_test_split"
      ],
      "metadata": {
        "id": "5o3vHSwgsqpM"
      },
      "execution_count": null,
      "outputs": []
    },
    {
      "cell_type": "code",
      "source": [
        "# Check if TensorFlow is using GPU\n",
        "print(\"Num GPUs Available: \", len(tf.config.experimental.list_physical_devices('GPU')))"
      ],
      "metadata": {
        "colab": {
          "base_uri": "https://localhost:8080/"
        },
        "id": "syF523hD4nFe",
        "outputId": "a97c21c6-ad00-4f18-ce52-07e95fe5d449"
      },
      "execution_count": null,
      "outputs": [
        {
          "output_type": "stream",
          "name": "stdout",
          "text": [
            "Num GPUs Available:  0\n"
          ]
        }
      ]
    },
    {
      "cell_type": "code",
      "source": [
        "warnings.filterwarnings(action='ignore',category=DeprecationWarning)\n",
        "warnings.filterwarnings(action='ignore',category=FutureWarning)"
      ],
      "metadata": {
        "id": "Xtp6hDmr4-8Q"
      },
      "execution_count": null,
      "outputs": []
    },
    {
      "cell_type": "markdown",
      "source": [
        "### Download Pneumonia Dataset\n",
        "\n",
        "The Corpus can be downloaded here: [Chest X-Ray Images (Pneumonia)](https://www.kaggle.com/datasets/paultimothymooney/chest-xray-pneumonia?resource=download)"
      ],
      "metadata": {
        "id": "V4bmI1Aq5IGw"
      }
    },
    {
      "cell_type": "code",
      "source": [
        "logging.basicConfig(level=logging.INFO)\n",
        "logger = logging.getLogger(__name__)"
      ],
      "metadata": {
        "id": "h_sLk2I26QO7"
      },
      "execution_count": null,
      "outputs": []
    },
    {
      "cell_type": "code",
      "source": [
        "def download_file(url, destination):\n",
        "    try:\n",
        "        urllib.request.urlretrieve(url, destination)\n",
        "        logger.info(f'Downloaded file from {url} to {destination}')\n",
        "    except Exception as e:\n",
        "        logger.error(f'Error downloading file: {e}')\n",
        "\n",
        "def extract_zip(zip_path, extract_path):\n",
        "    try:\n",
        "        with ZipFile(zip_path, 'r') as zip_ref:\n",
        "            zip_ref.extractall(extract_path)\n",
        "        logger.info(f'Extracted {zip_path} to {extract_path}')\n",
        "    except Exception as e:\n",
        "        logger.error(f'Error extracting zip file: {e}')\n",
        "\n",
        "def create_directory(directory):\n",
        "    if not os.path.exists(directory):\n",
        "        os.makedirs(directory)\n",
        "        logger.info(f'Created directory: {directory}')\n",
        "\n",
        "CORPUS_NAME = 'Chest_XRay'\n",
        "CORPUS_URL = 'https://www.kaggle.com/datasets/paultimothymooney/chest-xray-pneumonia?resource=download'\n",
        "CORPUS_DIR = os.path.join(CORPUS_NAME)\n",
        "DATASET_ZIP = os.path.join(CORPUS_DIR, 'Chest_XRay.zip')\n",
        "\n",
        "# Check if dataset directory already exists\n",
        "if os.path.exists(CORPUS_DIR):\n",
        "    print(f'{CORPUS_NAME} already exists')\n",
        "else:\n",
        "    if os.path.exists(DATASET_ZIP):\n",
        "        create_directory(CORPUS_DIR)\n",
        "        extract_zip(DATASET_ZIP, CORPUS_DIR)\n",
        "        os.remove(DATASET_ZIP)\n",
        "        print(f'{CORPUS_NAME} extracted')\n",
        "    else:\n",
        "        print(f'To obtain the \"{CORPUS_NAME}\" dataset, please follow these steps:')\n",
        "        print(f'1. Manually download the WikiQA dataset from: {CORPUS_URL}')\n",
        "        print(f'2. Place the downloaded \"WikiQACorpus.zip\" file in the \"{CORPUS_DIR}\" folder.')\n",
        "        print(f'3. Rerun this script after placing the corpus in the correct location.')"
      ],
      "metadata": {
        "colab": {
          "base_uri": "https://localhost:8080/"
        },
        "id": "zmNVwcx96ZX4",
        "outputId": "5aa2692c-b029-490b-98dd-a5a1bbfde8ea"
      },
      "execution_count": null,
      "outputs": [
        {
          "output_type": "stream",
          "name": "stdout",
          "text": [
            "To obtain the \"Chest_XRay\" dataset, please follow these steps:\n",
            "1. Manually download the WikiQA dataset from: https://www.kaggle.com/datasets/paultimothymooney/chest-xray-pneumonia?resource=download\n",
            "2. Place the downloaded \"WikiQACorpus.zip\" file in the \"Chest_XRay\" folder.\n",
            "3. Rerun this script after placing the corpus in the correct location.\n"
          ]
        }
      ]
    },
    {
      "cell_type": "markdown",
      "source": [
        "---\n",
        "### References:\n",
        "\n",
        "Varshni, D., Thakral, K., Agarwal, L., Nijhawan, R. and Mittal, A. (2019). Pneumonia Detection Using CNN based Feature Extraction. [online] IEEE Xplore. doi:https://doi.org/10.1109/ICECCT.2019.8869364."
      ],
      "metadata": {
        "id": "gaHb3cx9texv"
      }
    }
  ]
}