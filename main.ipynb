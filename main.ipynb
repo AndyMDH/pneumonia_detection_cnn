{
  "nbformat": 4,
  "nbformat_minor": 0,
  "metadata": {
    "colab": {
      "provenance": [],
      "mount_file_id": "1imySp36b3hTs28zJzof7Qta8Z6nZmBbD",
      "authorship_tag": "ABX9TyPidHZyJcrlwrga5K6s9SRN",
      "include_colab_link": true
    },
    "kernelspec": {
      "name": "python3",
      "display_name": "Python 3"
    },
    "language_info": {
      "name": "python"
    }
  },
  "cells": [
    {
      "cell_type": "markdown",
      "metadata": {
        "id": "view-in-github",
        "colab_type": "text"
      },
      "source": [
        "<a href=\"https://colab.research.google.com/github/AndyMDH/pneumonia_detection_cnn/blob/main/main.ipynb\" target=\"_parent\"><img src=\"https://colab.research.google.com/assets/colab-badge.svg\" alt=\"Open In Colab\"/></a>"
      ]
    },
    {
      "cell_type": "markdown",
      "source": [
        "# CSCK506  End of Module: Pneumonia Detection through Convolutional Neural Network (CNN)\n",
        "\n"
      ],
      "metadata": {
        "id": "sKYV16KhiNal"
      }
    },
    {
      "cell_type": "markdown",
      "source": [
        "## Table of Contents\n",
        "1. [Introduction](#section-1)\n",
        "2. [Exploratory Data Analysis](#section-2)\n",
        "3. [Data Preprocessing and Augmentation](#section-3)\n",
        "4. [CNN Architecture Development](#section-4)\n",
        "5. [Model Evaluation](#section-5)\n",
        "6. [Summary & Retrospective](#section-6)\n",
        "7. [References](#section-7)"
      ],
      "metadata": {
        "id": "dpfCeVsEiwvH"
      }
    },
    {
      "cell_type": "markdown",
      "source": [
        "---\n",
        "## Introduction\n",
        "\n",
        "Pneumonia poses a severe threat to human health, being a potentially life-threatening infectious illness that typically affects one or both lungs. It is frequently triggered by bacteria, notably Streptococcus pneumoniae. According to the World Health Organization (WHO), pneumonia is responsible for one in three deaths in India (Varshni et al., 2019). Medical practitioners often rely on X-ray scans to diagnose pneumonia, distinguishing between bacterial and viral types.\n",
        "\n",
        "This Jupyter notebook delves into the realm of automated pneumonia detection using Convolutional Neural Networks (CNNs). Specifically, it addresses the task of training a CNN model to differentiate between healthy lung scans and those afflicted with pneumonia. The dataset utilised for this endeavor is sourced from the Kaggle competition repository, offering a collection of chest X-ray images categorised as pneumonia-positive and normal.\n",
        "\n",
        "\n",
        "**This task involves, but is not limited to:**\n",
        "\n",
        "a. CNN Model Development:\n",
        "\n",
        "- Write code to train a CNN model using the provided dataset.\n",
        "- Objective: Achieve optimal performance in distinguishing between healthy and pneumonia-infected lung images.\n",
        "\n",
        "    - **Key considerations:**\n",
        "      - Define CNN architecture, including convolution-pooling blocks.\n",
        "      - Fine-tune parameters like strides, padding, and activation functions for accuracy.\n",
        "      - Implement strategies to prevent overfitting and ensure model generalization.\n",
        "\n",
        "b. Training and Evaluation:\n",
        "\n",
        "- Train the CNN model using the provided training dataset.\n",
        "Fine-tune hyperparameters using validation data to enhance performance.\n",
        "- Evaluate the model's accuracy using a separate test dataset to validate pneumonia detection in chest X-ray images.\n",
        "\n",
        "This Jupyter Notebook was collaboratively prepared by:\n",
        "\n",
        "- Minh-Dat Andy Ho Huu\n",
        "- Santiago Fernandez Blanco\n",
        "- Ismael Saumtally\n",
        "- Chi Chuen Wan\n",
        "- Chui Yi Wong"
      ],
      "metadata": {
        "id": "Fp0cMtR7i1cn"
      }
    },
    {
      "cell_type": "markdown",
      "source": [
        "### Import Dependencies"
      ],
      "metadata": {
        "id": "_znUfAOJvTQN"
      }
    },
    {
      "cell_type": "code",
      "source": [
        "# Standard library imports\n",
        "import logging\n",
        "import os\n",
        "import unicodedata\n",
        "from collections import defaultdict\n",
        "from typing import List, Optional, Set, Tuple\n",
        "from zipfile import ZipFile\n",
        "import random\n",
        "\n",
        "# Related third party imports\n",
        "import numpy as np\n",
        "import cv2\n",
        "import matplotlib.pyplot as plt\n",
        "import seaborn as sns\n",
        "import tensorflow as tf\n",
        "from tensorflow import keras\n",
        "from tensorflow.keras.models import Sequential\n",
        "from tensorflow.keras.preprocessing.image import ImageDataGenerator\n",
        "from tensorflow.keras.layers import Dense, Activation, Conv2D, MaxPooling2D, Flatten, Dropout, BatchNormalization\n",
        "from tensorflow.keras.optimizers import Adam\n",
        "from tensorflow.keras.callbacks import EarlyStopping\n",
        "from sklearn.metrics import precision_recall_curve, roc_curve, accuracy_score, confusion_matrix, precision_score, recall_score\n",
        "from sklearn.utils.class_weight import compute_class_weight\n",
        "\n",
        "from google.colab import drive\n",
        "\n",
        "# Warnings configuration\n",
        "import warnings"
      ],
      "metadata": {
        "id": "5o3vHSwgsqpM"
      },
      "execution_count": 2,
      "outputs": []
    },
    {
      "cell_type": "markdown",
      "source": [
        "Here we will also define a constant to decide whether to use the GPU (with CUDA specifically) or the CPU. If you don't have a GPU, set this to False."
      ],
      "metadata": {
        "id": "Jfp1WyIGg0Dn"
      }
    },
    {
      "cell_type": "code",
      "source": [
        "USE_CUDA = True"
      ],
      "metadata": {
        "id": "qUMXMi43gyK5"
      },
      "execution_count": 3,
      "outputs": []
    },
    {
      "cell_type": "code",
      "source": [
        "warnings.filterwarnings(action='ignore',category=DeprecationWarning)\n",
        "warnings.filterwarnings(action='ignore',category=FutureWarning)"
      ],
      "metadata": {
        "id": "Xtp6hDmr4-8Q"
      },
      "execution_count": 4,
      "outputs": []
    },
    {
      "cell_type": "markdown",
      "source": [
        "### Download Pneumonia Dataset\n",
        "\n",
        "The Corpus can be downloaded here: [Chest X-Ray Images (Pneumonia)](https://www.kaggle.com/datasets/paultimothymooney/chest-xray-pneumonia?resource=download)"
      ],
      "metadata": {
        "id": "V4bmI1Aq5IGw"
      }
    },
    {
      "cell_type": "code",
      "source": [
        "logging.basicConfig(level=logging.INFO)\n",
        "logger = logging.getLogger(__name__)"
      ],
      "metadata": {
        "id": "h_sLk2I26QO7"
      },
      "execution_count": 5,
      "outputs": []
    },
    {
      "cell_type": "markdown",
      "source": [
        "### Load Dataset into DataFrame from Google Drive"
      ],
      "metadata": {
        "id": "6AhITM_N9sJV"
      }
    },
    {
      "cell_type": "code",
      "source": [
        "# Mount Google Drive\n",
        "drive.mount('/content/drive')\n",
        "\n",
        "# Defining dataset directory\n",
        "DATASET_DIR = \"/content/drive/MyDrive/Liverpool/CSCK506 Deep Learning/End of Module/archive/chest_xray\"\n",
        "TRAIN_IMAGES = DATASET_DIR + \"/train\"\n",
        "VAL_IMAGES = DATASET_DIR + \"/val\"\n",
        "TEST_IMAGES = DATASET_DIR + \"/test\"\n",
        "\n",
        "if os.path.exists(TRAIN_IMAGES) and os.path.exists(VAL_IMAGES) and os.path.exists(TEST_IMAGES):\n",
        "    print(\"Dataset directories exist.\")\n",
        "else:\n",
        "    print(\"One or more dataset directories are not found. Please recheck the file locations.\")"
      ],
      "metadata": {
        "id": "w-pQ_8vFTRCN",
        "colab": {
          "base_uri": "https://localhost:8080/"
        },
        "outputId": "ffdc829e-9e8c-4e2f-a00b-ae59c0bffb10"
      },
      "execution_count": 6,
      "outputs": [
        {
          "output_type": "stream",
          "name": "stdout",
          "text": [
            "Drive already mounted at /content/drive; to attempt to forcibly remount, call drive.mount(\"/content/drive\", force_remount=True).\n",
            "Dataset directories exist.\n"
          ]
        }
      ]
    },
    {
      "cell_type": "markdown",
      "source": [
        "**Alternatively**, if you want to run this notebook from your local machine, you can run the code block below to download and unzip the x-ray files from Kaggle."
      ],
      "metadata": {
        "id": "JMbnpximw3KG"
      }
    },
    {
      "cell_type": "code",
      "source": [
        "# def download_file(url, destination):\n",
        "#     try:\n",
        "#         urllib.request.urlretrieve(url, destination)\n",
        "#         logger.info(f'Downloaded file from {url} to {destination}')\n",
        "#     except Exception as e:\n",
        "#         logger.error(f'Error downloading file: {e}')\n",
        "\n",
        "# def extract_zip(zip_path, extract_path):\n",
        "#     try:\n",
        "#         with ZipFile(zip_path, 'r') as zip_ref:\n",
        "#             zip_ref.extractall(extract_path)\n",
        "#         logger.info(f'Extracted {zip_path} to {extract_path}')\n",
        "#     except Exception as e:\n",
        "#         logger.error(f'Error extracting zip file: {e}')\n",
        "\n",
        "# def create_directory(directory):\n",
        "#     if not os.path.exists(directory):\n",
        "#         os.makedirs(directory)\n",
        "#         logger.info(f'Created directory: {directory}')\n",
        "\n",
        "# DATASET_NAME = 'chest_x_ray'\n",
        "# DATASET_URL = 'https://www.kaggle.com/datasets/paultimothymooney/chest-xray-pneumonia?resource=download'\n",
        "# DATASET_DIR = os.path.join(DATASET_NAME)\n",
        "# DATASET_ZIP = os.path.join(DATASET_DIR, 'archive.zip')\n",
        "\n",
        "# # Check if dataset directory already exists\n",
        "# if os.path.exists(DATASET_DIR):\n",
        "#     print(f'{DATASET_NAME} already exists')\n",
        "# else:\n",
        "#     if os.path.exists(DATASET_ZIP):\n",
        "#         create_directory(DATASET_DIR)\n",
        "#         extract_zip(DATASET_ZIP, CORPUS_DIR)\n",
        "#         os.remove(DATASET_ZIP)\n",
        "#         print(f'{DATASET_URL_NAME} extracted')\n",
        "#     else:\n",
        "#         print(f'To obtain the \"{DATASET_NAME}\" dataset, please follow these steps:')\n",
        "#         print(f'1. Manually download the WikiQA dataset from: {DATASET_URL}')\n",
        "#         print(f'2. Place the downloaded \"archive.zip\" file in the \"{DATASET_DIR}\" folder.')\n",
        "#         print(f'3. Rerun this script after placing the corpus in the correct location.')\n"
      ],
      "metadata": {
        "id": "JO9DTt_9TXxH",
        "colab": {
          "base_uri": "https://localhost:8080/"
        },
        "outputId": "d2b554bf-ece7-4918-ecb9-4f5a622772b8"
      },
      "execution_count": 25,
      "outputs": [
        {
          "output_type": "stream",
          "name": "stdout",
          "text": [
            "To obtain the \"chest_x_ray\" dataset, please follow these steps:\n",
            "1. Manually download the WikiQA dataset from: https://www.kaggle.com/datasets/paultimothymooney/chest-xray-pneumonia?resource=download\n",
            "2. Place the downloaded \"archive.zip\" file in the \"chest_x_ray\" folder.\n",
            "3. Rerun this script after placing the corpus in the correct location.\n"
          ]
        }
      ]
    },
    {
      "cell_type": "markdown",
      "source": [
        "## Exploratory Data Analysis"
      ],
      "metadata": {
        "id": "iY2sVdjG-PLT"
      }
    },
    {
      "cell_type": "code",
      "source": [
        "labels = ['NORMAL', 'PNEUMONIA']"
      ],
      "metadata": {
        "id": "0sGMrpAQ8lEh"
      },
      "execution_count": 6,
      "outputs": []
    },
    {
      "cell_type": "markdown",
      "source": [
        "---\n",
        "## Data Preprocessing\n"
      ],
      "metadata": {
        "id": "1rrwYa1MJCKB"
      }
    },
    {
      "cell_type": "code",
      "source": [
        "ROTATION_RANGE = 20\n",
        "WIDTH_SHIFT_RANGE = 0.1\n",
        "HEIGHT_SHIFT_RANGE = 0.1\n",
        "HORIZONTAL_FLIP = True\n",
        "FILL_MODE = 'nearest'\n",
        "TARGET_SIZE = (300, 300)\n",
        "RESCALE = 1. / 255.\n",
        "BATCH_SIZE=32\n",
        "\n",
        "def create_augmented_data_generator(train_images, train_labels):\n",
        "    # Call the ImageDataGenerator class for training data augmentation\n",
        "    train_datagen = ImageDataGenerator(\n",
        "        rotation_range=ROTATION_RANGE,\n",
        "        width_shift_range=WIDTH_SHIFT_RANGE,\n",
        "        height_shift_range=HEIGHT_SHIFT_RANGE,\n",
        "        horizontal_flip=HORIZONTAL_FLIP,\n",
        "        fill_mode=FILL_MODE,\n",
        "        rescale=RESCALE\n",
        "    )\n",
        "\n",
        "    # Pass in arguments to the flow method for training data\n",
        "    train_data_generator = train_datagen.flow(\n",
        "        x=train_images,\n",
        "        y=train_labels,\n",
        "        batch_size=BATCH_SIZE,\n",
        "        target_size=TARGET_SIZE,\n",
        "        class_mode='binary'\n",
        "    )\n",
        "\n",
        "    return train_data_generator\n",
        "\n",
        "def create_val_data_generator(val_images, val_labels):\n",
        "    # Call the ImageDataGenerator class to rescale images for validation data (without augmentation)\n",
        "    val_datagen = ImageDataGenerator(rescale=RESCALE)\n",
        "\n",
        "    # Pass in arguments to the flow method for validation data\n",
        "    val_data_generator = val_datagen.flow(\n",
        "        x=val_images,\n",
        "        y=val_labels,\n",
        "        batch_size=BATCH_SIZE,\n",
        "        target_size=TARGET_SIZE,\n",
        "        class_mode='binary'\n",
        "    )\n",
        "\n",
        "    return val_data_generator\n",
        "\n",
        "def create_test_data_generator(test_images, test_labels):\n",
        "    # Call the ImageDataGenerator class to rescale images for test data (without augmentation)\n",
        "    test_datagen = ImageDataGenerator(rescale=RESCALE)\n",
        "\n",
        "    # Pass in arguments to the flow method for test data\n",
        "    test_data_generator = test_datagen.flow(\n",
        "        x=test_images,\n",
        "        y=test_labels,\n",
        "        batch_size=BATCH_SIZE,\n",
        "        target_size=TARGET_SIZE,\n",
        "        class_mode='binary'\n",
        "    )\n",
        "\n",
        "    return test_data_generator"
      ],
      "metadata": {
        "id": "FiGCGKpAN67G"
      },
      "execution_count": 26,
      "outputs": []
    },
    {
      "cell_type": "code",
      "source": [
        "class_indices = {'NORMAL': 0, 'PNEUMONIA': 1}  # Manually defining class indices based on our class labels\n",
        "\n",
        "print(class_indices)"
      ],
      "metadata": {
        "colab": {
          "base_uri": "https://localhost:8080/"
        },
        "id": "BnzllJ1-pn-9",
        "outputId": "b7d93f47-ea13-4238-c8d3-a8ba4dd27624"
      },
      "execution_count": 29,
      "outputs": [
        {
          "output_type": "stream",
          "name": "stdout",
          "text": [
            "{'NORMAL': 0, 'PNEUMONIA': 1}\n"
          ]
        }
      ]
    },
    {
      "cell_type": "code",
      "source": [
        "class_weights_dict = None\n",
        "\n",
        "# import numpy as np\n",
        "\n",
        "# # Assuming train_labels contains your training labels (0s and 1s for binary classification)\n",
        "# # Compute class frequencies\n",
        "# class_counts = np.bincount(train_labels)\n",
        "\n",
        "# # Calculate class weights\n",
        "# total_samples = np.sum(class_counts)\n",
        "# class_weights = {i: total_samples / count for i, count in enumerate(class_counts)}\n",
        "\n",
        "# print(\"Class Weights:\", class_weights)"
      ],
      "metadata": {
        "id": "eTdSdDYleEAX"
      },
      "execution_count": 20,
      "outputs": []
    },
    {
      "cell_type": "code",
      "source": [
        "# Call the function to create augmented data generator for training set\n",
        "train_data_generator = create_augmented_data_generator(TRAIN_IMAGES, train_labels)\n",
        "\n",
        "# Call the function to create augmented data generator for training set\n",
        "train_data_generator = create_val_data_generator(train_images, train_labels)\n",
        "\n",
        "# Call the function to create data generator for test set\n",
        "test_data_generator = create_test_data_generator(test_images, test_labels)"
      ],
      "metadata": {
        "colab": {
          "base_uri": "https://localhost:8080/",
          "height": 211
        },
        "id": "wPfkLOXNYdD0",
        "outputId": "bd17e296-597b-4d2c-93a5-6db4dc1fb830"
      },
      "execution_count": 30,
      "outputs": [
        {
          "output_type": "error",
          "ename": "NameError",
          "evalue": "name 'train_images' is not defined",
          "traceback": [
            "\u001b[0;31m---------------------------------------------------------------------------\u001b[0m",
            "\u001b[0;31mNameError\u001b[0m                                 Traceback (most recent call last)",
            "\u001b[0;32m<ipython-input-30-05db194b86cb>\u001b[0m in \u001b[0;36m<cell line: 2>\u001b[0;34m()\u001b[0m\n\u001b[1;32m      1\u001b[0m \u001b[0;31m# Call the function to create augmented data generator for training set\u001b[0m\u001b[0;34m\u001b[0m\u001b[0;34m\u001b[0m\u001b[0m\n\u001b[0;32m----> 2\u001b[0;31m \u001b[0mtrain_data_generator\u001b[0m \u001b[0;34m=\u001b[0m \u001b[0mcreate_augmented_data_generator\u001b[0m\u001b[0;34m(\u001b[0m\u001b[0mtrain_images\u001b[0m\u001b[0;34m,\u001b[0m \u001b[0mtrain_labels\u001b[0m\u001b[0;34m)\u001b[0m\u001b[0;34m\u001b[0m\u001b[0;34m\u001b[0m\u001b[0m\n\u001b[0m\u001b[1;32m      3\u001b[0m \u001b[0;34m\u001b[0m\u001b[0m\n\u001b[1;32m      4\u001b[0m \u001b[0;31m# Call the function to create augmented data generator for training set\u001b[0m\u001b[0;34m\u001b[0m\u001b[0;34m\u001b[0m\u001b[0m\n\u001b[1;32m      5\u001b[0m \u001b[0mtrain_data_generator\u001b[0m \u001b[0;34m=\u001b[0m \u001b[0mcreate_val_data_generator\u001b[0m\u001b[0;34m(\u001b[0m\u001b[0mtrain_images\u001b[0m\u001b[0;34m,\u001b[0m \u001b[0mtrain_labels\u001b[0m\u001b[0;34m)\u001b[0m\u001b[0;34m\u001b[0m\u001b[0;34m\u001b[0m\u001b[0m\n",
            "\u001b[0;31mNameError\u001b[0m: name 'train_images' is not defined"
          ]
        }
      ]
    },
    {
      "cell_type": "code",
      "source": [
        "# create_model\n",
        "def create_model():\n",
        "\n",
        "    model = tf.keras.models.Sequential([\n",
        "        tf.keras.layers.Conv2D(16, (3,3), activation='relu', padding='same', strides=(2, 2), input_shape=(300, 300), name=\"First_Convolution\"),\n",
        "        tf.keras.layers.Dropout(rate=0.1, name='Dropout_1')\n",
        "        tf.keras.layers.MaxPooling2D(2,2),\n",
        "        tf.keras.layers.Conv2D(32, (3,3), activation='relu', padding='same', strides=(2, 2), name=\"Second_Convolution\"),\n",
        "        tf.keras.layers.Dropout(rate=0.1, name='Dropout_2')\n",
        "        tf.keras.layers.MaxPooling2D(2,2),\n",
        "        tf.keras.layers.Conv2D(64, (3,3), activation='relu', padding='same', strides=(2, 2), name=\"Third_Convolution\"),\n",
        "        tf.keras.layers.Dropout(rate=0.1, name='Dropout_3')\n",
        "        tf.keras.layers.MaxPooling2D(2,2),\n",
        "\n",
        "        # Flatten the results to feed into a DNN\n",
        "        tf.keras.layers.Flatten(),\n",
        "        tf.keras.layers.Dense(512, activation='relu'),\n",
        "        tf.keras.layers.Dense(1, activation='sigmoid')\n",
        "    ])\n",
        "    return model\n",
        "\n",
        "    model.summary()"
      ],
      "metadata": {
        "id": "_owaHEBrY2Io"
      },
      "execution_count": 1,
      "outputs": []
    },
    {
      "cell_type": "code",
      "source": [
        "model.compile(loss='binary_crossentropy',\n",
        "              optimizer=tf.keras.optimizers.Adam(learning_rate=0.1),\n",
        "              metrics=['accuracy'],\n",
        "              class_weight=class_weights_dict)\n"
      ],
      "metadata": {
        "id": "_MN4s5qocxc1"
      },
      "execution_count": null,
      "outputs": []
    },
    {
      "cell_type": "markdown",
      "source": [
        "---\n",
        "### References:\n",
        "\n",
        "Varshni, D., Thakral, K., Agarwal, L., Nijhawan, R. and Mittal, A. (2019). Pneumonia Detection Using CNN based Feature Extraction. [online] IEEE Xplore. doi:https://doi.org/10.1109/ICECCT.2019.8869364."
      ],
      "metadata": {
        "id": "gaHb3cx9texv"
      }
    }
  ]
}